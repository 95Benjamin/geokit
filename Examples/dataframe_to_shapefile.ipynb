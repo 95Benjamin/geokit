{
 "cells": [
  {
   "cell_type": "markdown",
   "metadata": {},
   "source": [
    "# DataFrame to Shapefile\n",
    "\n",
    "Here a pandas dataframe is converted to a shape file. The dataframe can include any number of columns which contain float, interger, or string-representable values. One column must be called 'geom' which defines the geomentries.\n",
    "\n",
    "*last tested: version 1.0.2*"
   ]
  },
  {
   "cell_type": "code",
   "execution_count": 1,
   "metadata": {},
   "outputs": [],
   "source": [
    "import numpy as np\n",
    "import pandas as pd\n",
    "\n",
    "import geokit as gk"
   ]
  },
  {
   "cell_type": "code",
   "execution_count": 2,
   "metadata": {},
   "outputs": [],
   "source": [
    "# Choose an srs for the geometries\n",
    "srs = gk.srs.EPSG3035\n",
    "\n",
    "# Create random point geometries\n",
    "geoms = []\n",
    "for i in range(200):\n",
    "    geoms.append( gk.geom.point(np.random.random(2), srs=srs ))"
   ]
  },
  {
   "cell_type": "code",
   "execution_count": 3,
   "metadata": {},
   "outputs": [],
   "source": [
    "# Create a DataFrame with collumn called \"geom\" for the geometries\n",
    "df = pd.DataFrame({\"geom\":geoms})"
   ]
  },
  {
   "cell_type": "code",
   "execution_count": 4,
   "metadata": {},
   "outputs": [],
   "source": [
    "# Add Attributes for each geometry\n",
    "size = np.random.randint(100, size=len(geoms))\n",
    "df[\"size\"] = size\n",
    "\n",
    "color = [[\"blue\",\"green\",\"red\",\"yellow\"][i] for i in np.random.randint(4, size=len(geoms))]\n",
    "df[\"color\"] = color\n"
   ]
  },
  {
   "cell_type": "code",
   "execution_count": 5,
   "metadata": {},
   "outputs": [
    {
     "data": {
      "text/html": [
       "<div>\n",
       "<style scoped>\n",
       "    .dataframe tbody tr th:only-of-type {\n",
       "        vertical-align: middle;\n",
       "    }\n",
       "\n",
       "    .dataframe tbody tr th {\n",
       "        vertical-align: top;\n",
       "    }\n",
       "\n",
       "    .dataframe thead th {\n",
       "        text-align: right;\n",
       "    }\n",
       "</style>\n",
       "<table border=\"1\" class=\"dataframe\">\n",
       "  <thead>\n",
       "    <tr style=\"text-align: right;\">\n",
       "      <th></th>\n",
       "      <th>geom</th>\n",
       "      <th>size</th>\n",
       "      <th>color</th>\n",
       "    </tr>\n",
       "  </thead>\n",
       "  <tbody>\n",
       "    <tr>\n",
       "      <th>0</th>\n",
       "      <td>POINT (0.984231782417238 0.664081842617606 0)</td>\n",
       "      <td>36</td>\n",
       "      <td>yellow</td>\n",
       "    </tr>\n",
       "    <tr>\n",
       "      <th>1</th>\n",
       "      <td>POINT (0.961004152632402 0.813135688721021 0)</td>\n",
       "      <td>1</td>\n",
       "      <td>blue</td>\n",
       "    </tr>\n",
       "    <tr>\n",
       "      <th>2</th>\n",
       "      <td>POINT (0.392326232626297 0.389474095301736 0)</td>\n",
       "      <td>46</td>\n",
       "      <td>red</td>\n",
       "    </tr>\n",
       "    <tr>\n",
       "      <th>3</th>\n",
       "      <td>POINT (0.71471064046312 0.146376162487816 0)</td>\n",
       "      <td>43</td>\n",
       "      <td>green</td>\n",
       "    </tr>\n",
       "    <tr>\n",
       "      <th>4</th>\n",
       "      <td>POINT (0.716452216684462 0.508822894293676 0)</td>\n",
       "      <td>53</td>\n",
       "      <td>green</td>\n",
       "    </tr>\n",
       "  </tbody>\n",
       "</table>\n",
       "</div>"
      ],
      "text/plain": [
       "                                            geom  size   color\n",
       "0  POINT (0.984231782417238 0.664081842617606 0)    36  yellow\n",
       "1  POINT (0.961004152632402 0.813135688721021 0)     1    blue\n",
       "2  POINT (0.392326232626297 0.389474095301736 0)    46     red\n",
       "3   POINT (0.71471064046312 0.146376162487816 0)    43   green\n",
       "4  POINT (0.716452216684462 0.508822894293676 0)    53   green"
      ]
     },
     "execution_count": 5,
     "metadata": {},
     "output_type": "execute_result"
    }
   ],
   "source": [
    "# Show the table for clarification\n",
    "df.head()"
   ]
  },
  {
   "cell_type": "code",
   "execution_count": 6,
   "metadata": {},
   "outputs": [
    {
     "data": {
      "text/plain": [
       "'outputShapeFile.shp'"
      ]
     },
     "execution_count": 6,
     "metadata": {},
     "output_type": "execute_result"
    }
   ],
   "source": [
    "# Save as a shapefile\n",
    "gk.vector.createVector( df, output=\"outputShapeFile.shp\" )"
   ]
  },
  {
   "cell_type": "code",
   "execution_count": null,
   "metadata": {
    "collapsed": true
   },
   "outputs": [],
   "source": []
  }
 ],
 "metadata": {
  "kernelspec": {
   "display_name": "Python 3",
   "language": "python",
   "name": "python3"
  },
  "language_info": {
   "codemirror_mode": {
    "name": "ipython",
    "version": 3
   },
   "file_extension": ".py",
   "mimetype": "text/x-python",
   "name": "python",
   "nbconvert_exporter": "python",
   "pygments_lexer": "ipython3",
   "version": "3.6.4"
  }
 },
 "nbformat": 4,
 "nbformat_minor": 2
}
