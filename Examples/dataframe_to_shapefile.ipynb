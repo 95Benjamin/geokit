{
 "cells": [
  {
   "cell_type": "markdown",
   "metadata": {},
   "source": [
    "# DataFrame to Shapefile\n",
    "\n",
    "Here a pandas dataframe is converted to a shape file. The dataframe can include any number of columns which contain float, interger, or string-representable values. One column must be called 'geom' which defines the geomentries.\n",
    "\n",
    "*last tested: version 1.0.2*"
   ]
  },
  {
   "cell_type": "code",
   "execution_count": 1,
   "metadata": {
    "collapsed": false
   },
   "outputs": [],
   "source": [
    "import numpy as np\n",
    "import pandas as pd\n",
    "\n",
    "import geokit as gk"
   ]
  },
  {
   "cell_type": "code",
   "execution_count": 2,
   "metadata": {
    "collapsed": false
   },
   "outputs": [],
   "source": [
    "# Choose an srs for the geometries\n",
    "srs = gk.srs.EPSG3035\n",
    "\n",
    "# Create random point geometries\n",
    "geoms = []\n",
    "for i in range(200):\n",
    "    geoms.append( gk.geom.point(np.random.random(2), srs=srs ))"
   ]
  },
  {
   "cell_type": "code",
   "execution_count": 3,
   "metadata": {
    "collapsed": true
   },
   "outputs": [],
   "source": [
    "# Create a DataFrame with collumn called \"geom\" for the geometries\n",
    "df = pd.DataFrame({\"geom\":geoms})"
   ]
  },
  {
   "cell_type": "code",
   "execution_count": 4,
   "metadata": {
    "collapsed": false
   },
   "outputs": [],
   "source": [
    "# Add Attributes for each geometry\n",
    "size = np.random.randint(100, size=len(geoms))\n",
    "df[\"size\"] = size\n",
    "\n",
    "color = [[\"blue\",\"green\",\"red\",\"yellow\"][i] for i in np.random.randint(4, size=len(geoms))]\n",
    "df[\"color\"] = color\n"
   ]
  },
  {
   "cell_type": "code",
   "execution_count": 5,
   "metadata": {
    "collapsed": false
   },
   "outputs": [
    {
     "data": {
      "text/html": [
       "<div>\n",
       "<table border=\"1\" class=\"dataframe\">\n",
       "  <thead>\n",
       "    <tr style=\"text-align: right;\">\n",
       "      <th></th>\n",
       "      <th>geom</th>\n",
       "      <th>size</th>\n",
       "      <th>color</th>\n",
       "    </tr>\n",
       "  </thead>\n",
       "  <tbody>\n",
       "    <tr>\n",
       "      <th>0</th>\n",
       "      <td>POINT (0.970633106481866 0.753295298003823 0)</td>\n",
       "      <td>40</td>\n",
       "      <td>yellow</td>\n",
       "    </tr>\n",
       "    <tr>\n",
       "      <th>1</th>\n",
       "      <td>POINT (0.514669131914509 0.302474762887652 0)</td>\n",
       "      <td>37</td>\n",
       "      <td>yellow</td>\n",
       "    </tr>\n",
       "    <tr>\n",
       "      <th>2</th>\n",
       "      <td>POINT (0.260153765086534 0.151185412946687 0)</td>\n",
       "      <td>49</td>\n",
       "      <td>blue</td>\n",
       "    </tr>\n",
       "    <tr>\n",
       "      <th>3</th>\n",
       "      <td>POINT (0.392230983305055 0.003333189127056 0)</td>\n",
       "      <td>46</td>\n",
       "      <td>red</td>\n",
       "    </tr>\n",
       "    <tr>\n",
       "      <th>4</th>\n",
       "      <td>POINT (0.640866912363977 0.968625050416436 0)</td>\n",
       "      <td>3</td>\n",
       "      <td>green</td>\n",
       "    </tr>\n",
       "  </tbody>\n",
       "</table>\n",
       "</div>"
      ],
      "text/plain": [
       "                                            geom  size   color\n",
       "0  POINT (0.970633106481866 0.753295298003823 0)    40  yellow\n",
       "1  POINT (0.514669131914509 0.302474762887652 0)    37  yellow\n",
       "2  POINT (0.260153765086534 0.151185412946687 0)    49    blue\n",
       "3  POINT (0.392230983305055 0.003333189127056 0)    46     red\n",
       "4  POINT (0.640866912363977 0.968625050416436 0)     3   green"
      ]
     },
     "execution_count": 5,
     "metadata": {},
     "output_type": "execute_result"
    }
   ],
   "source": [
    "# Show the table for clarification\n",
    "df.head()"
   ]
  },
  {
   "cell_type": "code",
   "execution_count": 6,
   "metadata": {
    "collapsed": true
   },
   "outputs": [],
   "source": [
    "# Save as a shapefile\n",
    "gk.vector.createVector( df, output=\"outputShapeFile.shp\" )"
   ]
  },
  {
   "cell_type": "code",
   "execution_count": null,
   "metadata": {
    "collapsed": true
   },
   "outputs": [],
   "source": []
  }
 ],
 "metadata": {
  "kernelspec": {
   "display_name": "Python [default]",
   "language": "python",
   "name": "python3"
  },
  "language_info": {
   "codemirror_mode": {
    "name": "ipython",
    "version": 3
   },
   "file_extension": ".py",
   "mimetype": "text/x-python",
   "name": "python",
   "nbconvert_exporter": "python",
   "pygments_lexer": "ipython3",
   "version": "3.4.5"
  }
 },
 "nbformat": 4,
 "nbformat_minor": 2
}
