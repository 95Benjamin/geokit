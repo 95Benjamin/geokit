{
 "cells": [
  {
   "cell_type": "markdown",
   "metadata": {},
   "source": [
    "# Regional average of raster values\n",
    "\n",
    "Here an average of raster values is desired over the context of some region. A RegionMask object is created, which then allows raster data to be warped onto the RegionMask's characteristics (as in the RegionMask's resolution, extent, and spatial reference system). This create a numpy matrix, from which only the pixels which lie in the region can be easily extracted and operated on.\n",
    "\n",
    "*last tested: version 1.0.2*"
   ]
  },
  {
   "cell_type": "code",
   "execution_count": 1,
   "metadata": {
    "collapsed": false
   },
   "outputs": [],
   "source": [
    "from os.path import join\n",
    "\n",
    "import geokit as gk"
   ]
  },
  {
   "cell_type": "code",
   "execution_count": 2,
   "metadata": {
    "collapsed": false
   },
   "outputs": [],
   "source": [
    "# (Here a shape file of Aachen, Germany will be used)\n",
    "regionPath = join(gk._test_data_, \"aachenShapefile.shp\")\n",
    "\n",
    "# Create a region mask from a region definition\n",
    "rm = gk.RegionMask.fromVector(regionPath)"
   ]
  },
  {
   "cell_type": "code",
   "execution_count": 3,
   "metadata": {
    "collapsed": true
   },
   "outputs": [],
   "source": [
    "# Warp a raster file onto the RegionMask's context (Here, a simple elevation raster file is used)\n",
    "rasterFile = join(gk._test_data_, \"elevation.tif\")\n",
    "\n",
    "warpedMatrix = rm.warp(rasterFile)"
   ]
  },
  {
   "cell_type": "code",
   "execution_count": 4,
   "metadata": {
    "collapsed": false
   },
   "outputs": [
    {
     "name": "stdout",
     "output_type": "stream",
     "text": [
      "Mean raster value: 307.869\n"
     ]
    }
   ],
   "source": [
    "# Compute the average of pixels the region mask\n",
    "meanValue = warpedMatrix[ rm.mask ].mean()\n",
    "\n",
    "print(\"Mean raster value:\", meanValue)"
   ]
  },
  {
   "cell_type": "code",
   "execution_count": null,
   "metadata": {
    "collapsed": true
   },
   "outputs": [],
   "source": []
  }
 ],
 "metadata": {
  "kernelspec": {
   "display_name": "Python [default]",
   "language": "python",
   "name": "python3"
  },
  "language_info": {
   "codemirror_mode": {
    "name": "ipython",
    "version": 3
   },
   "file_extension": ".py",
   "mimetype": "text/x-python",
   "name": "python",
   "nbconvert_exporter": "python",
   "pygments_lexer": "ipython3",
   "version": "3.4.5"
  }
 },
 "nbformat": 4,
 "nbformat_minor": 2
}
