{
 "cells": [
  {
   "cell_type": "code",
   "execution_count": 1,
   "metadata": {
    "collapsed": false
   },
   "outputs": [],
   "source": [
    "import geokit as gk\n",
    "import matplotlib.pyplot as plt\n",
    "import numpy as np\n",
    "\n",
    "%matplotlib inline"
   ]
  },
  {
   "cell_type": "code",
   "execution_count": 1,
   "metadata": {
    "collapsed": false
   },
   "outputs": [],
   "source": [
    "import test_util as tu\n",
    "tu.test_scaleMatrix()"
   ]
  },
  {
   "cell_type": "code",
   "execution_count": 2,
   "metadata": {
    "collapsed": false
   },
   "outputs": [],
   "source": [
    "import test_srs as ts\n",
    "ts.test_xyTransform()"
   ]
  },
  {
   "cell_type": "code",
   "execution_count": 3,
   "metadata": {
    "collapsed": false
   },
   "outputs": [],
   "source": [
    "import test_geom as tg\n",
    "tg.test_makeBox()\n",
    "tg.test_makePoint()\n",
    "tg.test_convertWKT()\n",
    "tg.test_flatten()\n",
    "tg.test_convertMask()\n",
    "tg.test_transform()"
   ]
  },
  {
   "cell_type": "code",
   "execution_count": 2,
   "metadata": {
    "collapsed": false
   },
   "outputs": [],
   "source": [
    "import test_raster as tr\n",
    "tr.test_gdalType()\n",
    "tr.test_rasterInfo()\n",
    "tr.test_createRaster()\n",
    "tr.test_pointValues()\n",
    "tr.test_pointValue()\n",
    "tr.test_gradient()\n",
    "tr.test_mutateValues()"
   ]
  },
  {
   "cell_type": "code",
   "execution_count": 4,
   "metadata": {
    "collapsed": false
   },
   "outputs": [
    {
     "name": "stdout",
     "output_type": "stream",
     "text": [
      "No geometries found, returning None (MAKE THIS INTO A REAL WARINING!)\n"
     ]
    }
   ],
   "source": [
    "import test_vector as tv\n",
    "tv.test_ogrType()\n",
    "tv.test_vectorCount()\n",
    "tv.test_vectorItems()\n",
    "tv.test_vectorItem()\n",
    "tv.test_createVector()\n",
    "tv.test_vectorMutate()"
   ]
  },
  {
   "cell_type": "code",
   "execution_count": 2,
   "metadata": {
    "collapsed": false
   },
   "outputs": [],
   "source": [
    "import test_extent as te\n",
    "te.test_init()\n",
    "te.test_eq()\n",
    "te.test_pad()\n",
    "te.test_fit()\n",
    "te.test_castTo()\n",
    "te.test_inSourceExtent()                \n",
    "te.test_contains()\n",
    "te.test_filterSources()\n",
    "te.test_findWithin()\n",
    "te.test_clipRaster()\n",
    "te.test_extractRaster()"
   ]
  },
  {
   "cell_type": "code",
   "execution_count": 2,
   "metadata": {
    "collapsed": false
   },
   "outputs": [],
   "source": [
    "import test_regionmask as tre\n",
    "tre.test_init()\n",
    "tre.test_fromMask()\n",
    "tre.test_fromGeom()\n",
    "tre.test_fromVectorFeature()\n",
    "tre.test_fromVector()\n",
    "tre.test_fromVector()\n",
    "tre.test_pixelSize()\n",
    "tre.test_mask()\n",
    "tre.test_geometry()\n",
    "tre.test_createRaster()\n",
    "tre.test_applyMask()\n",
    "tre.test_warp()\n",
    "tre.test_rasterize()\n",
    "tre.test_indicateValues()\n",
    "tre.test_indicateFeatures()"
   ]
  },
  {
   "cell_type": "code",
   "execution_count": null,
   "metadata": {
    "collapsed": true
   },
   "outputs": [],
   "source": []
  }
 ],
 "metadata": {
  "kernelspec": {
   "display_name": "Python [conda root]",
   "language": "python",
   "name": "conda-root-py"
  },
  "language_info": {
   "codemirror_mode": {
    "name": "ipython",
    "version": 3
   },
   "file_extension": ".py",
   "mimetype": "text/x-python",
   "name": "python",
   "nbconvert_exporter": "python",
   "pygments_lexer": "ipython3",
   "version": "3.4.5"
  }
 },
 "nbformat": 4,
 "nbformat_minor": 2
}
