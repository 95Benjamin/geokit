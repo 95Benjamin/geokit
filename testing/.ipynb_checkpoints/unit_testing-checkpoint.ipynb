{
 "cells": [
  {
   "cell_type": "code",
   "execution_count": 1,
   "metadata": {
    "collapsed": false
   },
   "outputs": [],
   "source": [
    "import geokit as gk\n",
    "import matplotlib.pyplot as plt\n",
    "import numpy as np\n",
    "\n",
    "%matplotlib inline"
   ]
  },
  {
   "cell_type": "code",
   "execution_count": 1,
   "metadata": {
    "collapsed": false
   },
   "outputs": [],
   "source": [
    "import test_util as tu\n",
    "tu.test_scaleMatrix()"
   ]
  },
  {
   "cell_type": "code",
   "execution_count": 2,
   "metadata": {
    "collapsed": false
   },
   "outputs": [],
   "source": [
    "import test_srs as ts\n",
    "ts.test_xyTransform()"
   ]
  },
  {
   "cell_type": "code",
   "execution_count": 3,
   "metadata": {
    "collapsed": false
   },
   "outputs": [],
   "source": [
    "import test_geom as tg\n",
    "tg.test_makeBox()\n",
    "tg.test_makePoint()\n",
    "tg.test_convertWKT()\n",
    "tg.test_flatten()\n",
    "tg.test_convertMask()\n",
    "tg.test_transform()"
   ]
  },
  {
   "cell_type": "code",
   "execution_count": 3,
   "metadata": {
    "collapsed": false
   },
   "outputs": [],
   "source": [
    "import test_raster as tr\n",
    "tr.test_gdalType()\n",
    "tr.test_rasterInfo()\n",
    "tr.test_createRaster()\n",
    "tr.test_pointValues()\n",
    "tr.test_pointValue()\n",
    "tr.test_gradient()\n",
    "tr.test_rasterMutate()"
   ]
  },
  {
   "cell_type": "code",
   "execution_count": 4,
   "metadata": {
    "collapsed": false
   },
   "outputs": [
    {
     "name": "stdout",
     "output_type": "stream",
     "text": [
      "No geometries found, returning None (MAKE THIS INTO A REAL WARINING!)\n"
     ]
    }
   ],
   "source": [
    "import test_vector as tv\n",
    "tv.test_ogrType()\n",
    "tv.test_vectorCount()\n",
    "tv.test_vectorItems()\n",
    "tv.test_vectorItem()\n",
    "tv.test_createVector()\n",
    "tv.test_vectorMutate()"
   ]
  },
  {
   "cell_type": "code",
   "execution_count": null,
   "metadata": {
    "collapsed": true
   },
   "outputs": [],
   "source": []
  }
 ],
 "metadata": {
  "kernelspec": {
   "display_name": "Python [conda root]",
   "language": "python",
   "name": "conda-root-py"
  },
  "language_info": {
   "codemirror_mode": {
    "name": "ipython",
    "version": 3
   },
   "file_extension": ".py",
   "mimetype": "text/x-python",
   "name": "python",
   "nbconvert_exporter": "python",
   "pygments_lexer": "ipython3",
   "version": "3.4.5"
  }
 },
 "nbformat": 4,
 "nbformat_minor": 2
}
